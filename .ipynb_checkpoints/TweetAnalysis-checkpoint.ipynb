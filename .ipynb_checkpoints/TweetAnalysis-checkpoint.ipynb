{
 "cells": [
  {
   "cell_type": "code",
   "execution_count": 17,
   "metadata": {},
   "outputs": [],
   "source": [
    "import pandas as pd\n",
    "import numpy as np\n",
    "import matplotlib.pyplot as plt\n",
    "from sklearn.manifold import MDS\n",
    "from sklearn.cluster import KMeans\n",
    "from scipy.cluster import hierarchy as h\n",
    "from pyclustering.cluster.kmedoids import kmedoids\n",
    "import pandas as pd\n",
    "import numpy as np\n",
    "from random import sample\n",
    "import re"
   ]
  },
  {
   "cell_type": "code",
   "execution_count": 15,
   "metadata": {},
   "outputs": [],
   "source": [
    "def load_tweets(fname):\n",
    "    tweets = pd.read_csv(fname, names=['date','sep','tweet'])\n",
    "    tweets = tweets['tweet']\n",
    "    punc_reg = '[.?!,\\'\\`\\\"\\-\\&\\:\\;]+'\n",
    "    for i, tweet in enumerate(tweets):\n",
    "        tweet = re.sub(punc_reg, '', tweet)\n",
    "        tokens = tweet.split(' ')\n",
    "        print(tokens)\n",
    "        break\n",
    "            \n",
    "    return tweets\n",
    "\n"
   ]
  },
  {
   "cell_type": "code",
   "execution_count": 16,
   "metadata": {},
   "outputs": [
    {
     "name": "stdout",
     "output_type": "stream",
     "text": [
      "RT @AmericaFirst999: @Jkylebass Kick all Chinese firms ( they are funded by CCP) out of USA. Take over all American firms owned by China. T…\n"
     ]
    }
   ],
   "source": [
    "tweets = load_tweets('tweet_Data.csv')"
   ]
  },
  {
   "cell_type": "code",
   "execution_count": null,
   "metadata": {},
   "outputs": [],
   "source": [
    "\n"
   ]
  }
 ],
 "metadata": {
  "kernelspec": {
   "display_name": "Python 3",
   "language": "python",
   "name": "python3"
  },
  "language_info": {
   "codemirror_mode": {
    "name": "ipython",
    "version": 3
   },
   "file_extension": ".py",
   "mimetype": "text/x-python",
   "name": "python",
   "nbconvert_exporter": "python",
   "pygments_lexer": "ipython3",
   "version": "3.7.4"
  }
 },
 "nbformat": 4,
 "nbformat_minor": 2
}
